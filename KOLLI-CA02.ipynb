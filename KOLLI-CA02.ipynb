{
 "cells": [
  {
   "cell_type": "code",
   "execution_count": 98,
   "id": "bc9507cd",
   "metadata": {},
   "outputs": [],
   "source": [
    "def merge(a, l, m, r): \n",
    "    #Defines the indices\n",
    "    n1 = m - l + 1\n",
    "    n2 = r - m \n",
    "    #Create temp arrays\n",
    "    L = [0] * n1 \n",
    "    R = [0] * n2 \n",
    "    #Copy elements into arrays\n",
    "    for i in range(0, n1): \n",
    "        L[i] = a[l + i] \n",
    "    for i in range(0, n2): \n",
    "        R[i] = a[m + i + 1] \n",
    "  \n",
    "    \n",
    "    i, j, k = 0, 0, l \n",
    "    while i < n1 and j < n2: \n",
    "        if L[i] <= R[j]: \n",
    "            a[k] = L[i] \n",
    "            i += 1\n",
    "        else: \n",
    "            a[k] = R[j] \n",
    "            j += 1\n",
    "        k += 1\n",
    "  #Collect remaining values in the temp arrays\n",
    "    while i < n1: \n",
    "        a[k] = L[i] \n",
    "        i += 1\n",
    "        k += 1\n",
    "  \n",
    "    while j < n2: \n",
    "        a[k] = R[j] \n",
    "        j += 1\n",
    "        k += 1\n",
    "    "
   ]
  },
  {
   "cell_type": "code",
   "execution_count": 103,
   "id": "ad4e6539",
   "metadata": {},
   "outputs": [],
   "source": [
    "def mergeSort(A):\n",
    "    n = len(A)\n",
    "    #length of each sub array\n",
    "    length = 1\n",
    "    \n",
    "    while length < n:\n",
    "        i = 0\n",
    "        while i < n:\n",
    "            #Defines the indices for the subarrays\n",
    "            l=i\n",
    "            r = i+(2*length) -1\n",
    "            m = i + length -1\n",
    "            #Makes sure m and r are not greater than the len of array\n",
    "            if m > n-1:\n",
    "                m = n-1\n",
    "            if r > n-1:\n",
    "                r = n-1\n",
    "            #calls merge on the sub arrays\n",
    "            merge(A, l, m, r)\n",
    "            #Goes to the next sub array\n",
    "            i += length*2\n",
    "        length *=2\n",
    "        \n",
    "    return A"
   ]
  },
  {
   "cell_type": "code",
   "execution_count": 105,
   "id": "94f0d37b",
   "metadata": {},
   "outputs": [
    {
     "data": {
      "text/plain": [
       "[1, 2, 3, 5, 6, 8]"
      ]
     },
     "execution_count": 105,
     "metadata": {},
     "output_type": "execute_result"
    }
   ],
   "source": [
    "A = [5, 6, 2, 8, 1, 3]\n",
    "mergeSort(A)"
   ]
  }
 ],
 "metadata": {
  "kernelspec": {
   "display_name": "Python 3 (ipykernel)",
   "language": "python",
   "name": "python3"
  },
  "language_info": {
   "codemirror_mode": {
    "name": "ipython",
    "version": 3
   },
   "file_extension": ".py",
   "mimetype": "text/x-python",
   "name": "python",
   "nbconvert_exporter": "python",
   "pygments_lexer": "ipython3",
   "version": "3.10.6"
  }
 },
 "nbformat": 4,
 "nbformat_minor": 5
}
