{
 "cells": [
  {
   "cell_type": "markdown",
   "id": "68ae98c9",
   "metadata": {},
   "source": [
    "# Question 1\n",
    "### Modify the counting sort to sort values in descending order such that the sorted output is stable\n",
    "\n",
    "Below is my implementation of counting sort that will sort a given array in descending order."
   ]
  },
  {
   "cell_type": "code",
   "execution_count": 1,
   "id": "78b6a2ae",
   "metadata": {},
   "outputs": [
    {
     "data": {
      "text/plain": [
       "[9, 7, 7, 5, 5, 5, 5, 4, 4, 3, 3, 2, 1]"
      ]
     },
     "execution_count": 1,
     "metadata": {},
     "output_type": "execute_result"
    }
   ],
   "source": [
    "def counting_sort(A):\n",
    "    #Initialize variables\n",
    "    size = len(A)\n",
    "    max_element = max(A)\n",
    "\n",
    "    output_list = [0] * size\n",
    "    counting_list = [0] * (max_element + 1)\n",
    "\n",
    "    #Count number of instances of each number.\n",
    "    for element in A:\n",
    "        counting_list[element] += 1\n",
    "\n",
    "    for i in range(len(counting_list)-1, 0, -1):\n",
    "        counting_list[i-1] += counting_list[i]\n",
    "\n",
    "    for j in range(len(A)-1, -1, -1):\n",
    "        output_list[counting_list[A[j]]-1] = A[j]\n",
    "        counting_list[A[j]] -= 1\n",
    "\n",
    "    return output_list\n",
    "\n",
    "\n",
    "#Driver code\n",
    "A = [1, 5, 4, 7, 9, 3, 4, 3, 2, 5, 7, 5, 5]\n",
    "A_sorted = counting_sort(A)\n",
    "A_sorted"
   ]
  },
  {
   "cell_type": "markdown",
   "id": "c61be168",
   "metadata": {},
   "source": [
    "# Question 2\n",
    "#### Implement bucket sort for uniformly distributed non-negative numbers that may be greater than 1 using bucketSort in BucketSort.py as follows: first divide each input number by (max + 1), where max is the largest number in the input, then use bucketSort to sort the new numbers, finally multiply each sorted numbers with (max + 1). Note that BucketSort.py is obtained from BucketSort.ipynb by first commenting its driver codes and then downloading it as BucketSort.py. Compare the distribution of bucket sizes of this new implementations with that of bucketSort1 in BucketSort.py. Which implementation is better? You may draw your conclusion by running the experiment for 100 times, each time with 100 randomly generated positive numbers mixed with numbers less than 1 and numbers greater than 1, and comparing the two lists of bucket sizes of the two algorithms for each run. \n",
    "\n",
    "\n",
    "I have created the bucket_sort as defined in the problem, and have run the bucket sort algorithm for a 100 numbers between 0 and 2, for a 100 iterations with both my implementation and the implementation given by the professor in the BucketSort.ipynb file.\n",
    "\n",
    "There is a stark difference in the distributions as can be seen in the graphs below. My implementation is much more consistent with its buckets sizes, and uses its buckets efficiently. Therefore insertions sort is faster in my implemenetation.\n"
   ]
  },
  {
   "cell_type": "code",
   "execution_count": 2,
   "id": "33c1d8b8",
   "metadata": {
    "scrolled": true
   },
   "outputs": [
    {
     "name": "stdout",
     "output_type": "stream",
     "text": [
      "[0.67, 0.49, 1.07, 0.78, 0.86, 0.22, 1.07, 0.3, 1.87, 0.46, 1.56, 1.43, 1.43, 1.67, 0.93, 0.03, 0.02, 0.19, 1.38, 0.76, 0.96, 1.77, 1.11, 0.96, 1.18, 1.03, 1.69, 0.31, 0.99, 1.94, 1.37, 1.92, 1.09, 1.0, 1.56, 0.69, 0.28, 1.22, 1.84, 1.71, 1.55, 1.83, 0.18, 1.95, 0.85, 0.86, 0.05, 0.48, 1.83, 0.44, 1.91, 0.25, 1.35, 0.28, 0.68, 0.74, 0.54, 0.34, 1.18, 1.36, 0.17, 0.83, 0.36, 0.55, 1.24, 1.04, 0.43, 1.8, 1.3, 0.92, 1.94, 1.06, 0.3, 1.85, 0.42, 1.65, 0.83, 1.45, 0.92, 0.08, 1.24, 1.43, 1.88, 1.58, 1.76, 0.29, 0.03, 1.01, 0.32, 0.94, 0.27, 1.65, 1.28, 1.38, 0.53, 1.35, 0.53, 0.61, 1.02, 0.34]\n",
      "The sorted list is \n",
      ": [0.02, 0.03, 0.03, 0.05, 0.08, 0.17, 0.18, 0.19, 0.22, 0.25, 0.27, 0.28, 0.28, 0.29, 0.3, 0.3, 0.31, 0.32, 0.34, 0.34, 0.36, 0.42, 0.43, 0.44, 0.46, 0.48, 0.49, 0.53, 0.53, 0.54, 0.55, 0.61, 0.67, 0.68, 0.69, 0.74, 0.76, 0.78, 0.83, 0.83, 0.85, 0.86, 0.86, 0.92, 0.92, 0.93, 0.94, 0.96, 0.96, 0.99, 1.0, 1.01, 1.02, 1.03, 1.04, 1.06, 1.07, 1.07, 1.09, 1.11, 1.18, 1.18, 1.22, 1.24, 1.24, 1.28, 1.3, 1.35, 1.35, 1.36, 1.37, 1.38, 1.38, 1.43, 1.43, 1.43, 1.45, 1.55, 1.56, 1.56, 1.58, 1.65, 1.65, 1.67, 1.69, 1.71, 1.76, 1.77, 1.8, 1.83, 1.83, 1.84, 1.85, 1.87, 1.88, 1.91, 1.92, 1.94, 1.94, 1.95] \n"
     ]
    }
   ],
   "source": [
    "\n",
    "\n",
    "from math import floor\n",
    "import random\n",
    "\n",
    "#Define insertions sort.\n",
    "def insertion_sort(A):\n",
    "    for i in range(1, len(A)):\n",
    "        up = A[i]\n",
    "        j = i - 1\n",
    "        while j >= 0 and A[j] > up: \n",
    "            A[j + 1] = A[j]\n",
    "            j -= 1\n",
    "        A[j + 1] = up     \n",
    "    return A\n",
    "\n",
    "#Define bucket sort.\n",
    "def bucket_sort(A, n=10):\n",
    "\t #Create a list of buckets.\n",
    "\t m = max(A) + 1\n",
    "\t maxi = max(A)\n",
    "\t mini = min(A)\n",
    "\t ra = maxi-mini\n",
    "\n",
    "\t bucket_list = []\n",
    "\t for _ in range(n):\n",
    "\t \tbucket_list.append([])\n",
    "\n",
    "\t #Add elements to buckets.\n",
    "\t for element in A:\n",
    "\t \tbucket_list[floor(element * ra/n)].append(element/m)\n",
    "\n",
    "\t #Sort and append buckets to outputs.\n",
    "\t output = []\n",
    "\t for bucket in bucket_list:\n",
    "\t \tbucket = insertion_sort(bucket)\n",
    "\t \toutput += bucket\n",
    "    \n",
    "    \n",
    "\t bucket_sizes = [ len(bucket_list[i]) for i in range(n)] \n",
    "        \n",
    "\t return [round(element * m, 2) for element in output], bucket_sizes\n",
    "\n",
    "\n",
    "\n",
    "#Driver code/\n",
    "A = [round(random.uniform(0,2), 2) for _ in range(100)]\n",
    "print(A)\n",
    "sorted_A, ra = bucket_sort(A)\n",
    "print(f\"The sorted list is \\n: {sorted_A} \")"
   ]
  },
  {
   "cell_type": "code",
   "execution_count": 3,
   "id": "d47ce3ff",
   "metadata": {},
   "outputs": [
    {
     "data": {
      "text/plain": [
       "(array([900.,   0.,   0.,   0.,   0.,   0.,   0.,   0.,   0., 100.]),\n",
       " array([  0.,  10.,  20.,  30.,  40.,  50.,  60.,  70.,  80.,  90., 100.]),\n",
       " <BarContainer object of 10 artists>)"
      ]
     },
     "execution_count": 3,
     "metadata": {},
     "output_type": "execute_result"
    },
    {
     "data": {
      "image/png": "[encoded data removed]",
      "text/plain": [
       "<Figure size 640x480 with 1 Axes>"
      ]
     },
     "metadata": {},
     "output_type": "display_data"
    }
   ],
   "source": [
    "bucket_sizes = []\n",
    "for _ in range(100):\n",
    "\tA = [round(random.uniform(0,2), 2) for _ in range(100)]\n",
    "\t_, bsize = bucket_sort(A)\n",
    "\tbucket_sizes += bsize\n",
    "#Plots the bucket size distribution.\n",
    "import matplotlib.pyplot as plt\n",
    "\n",
    "plt.hist(bucket_sizes)"
   ]
  },
  {
   "cell_type": "code",
   "execution_count": 4,
   "id": "56609d72",
   "metadata": {},
   "outputs": [],
   "source": [
    "# Bucket sort for an input array with numbers greater than 1\n",
    "\n",
    "def bucketSort1(A, NumOfBuckets=10):\n",
    "    max_A = max(A)\n",
    "    min_A = min(A)\n",
    "  \n",
    "    # range (for buckets)\n",
    "    range_A = (max_A - min_A) / NumOfBuckets\n",
    "  \n",
    "    bucket = []\n",
    "  \n",
    "    # create empty buckets\n",
    "    for i in range(NumOfBuckets):\n",
    "        bucket.append([])\n",
    "  \n",
    "    # scatter the array elements into the correct bucket\n",
    "    for i in range(len(A)):\n",
    "        diff = (A[i] - min_A) / range_A - int((A[i] - min_A) / range_A)\n",
    "  \n",
    "        # append the boundary elements to the lower array\n",
    "        if (diff == 0 and A[i] != min_A): # boundary\n",
    "            bucket[int((A[i] - min_A) / range_A) - 1].append(A[i])\n",
    "        else:\n",
    "            bucket[int((A[i] - min_A) / range_A)].append(A[i])\n",
    "    \n",
    "    #print(\"Distribution of numbers in buckets\")\n",
    "    #for i in range(NumOfBuckets):\n",
    "    #    print(bucket[i])\n",
    "  \n",
    "    # Sort each bucket individually\n",
    "    for i in range(len(bucket)):\n",
    "        if len(bucket[i]) != 0:\n",
    "            bucket[i].sort()\n",
    "            # Gather sorted elements \n",
    "    \n",
    "    bucket_size = [len(bucket[i]) for i in range(NumOfBuckets)]\n",
    "    \n",
    "    # to the original array\n",
    "    k = 0\n",
    "    for list in bucket:\n",
    "        if list:\n",
    "            for x in list:\n",
    "                A[k] = x\n",
    "                k += 1\n",
    "\n",
    "    return A, bucket_size"
   ]
  },
  {
   "cell_type": "code",
   "execution_count": 6,
   "id": "1edd64f0",
   "metadata": {},
   "outputs": [
    {
     "ename": "IndentationError",
     "evalue": "unindent does not match any outer indentation level (<tokenize>, line 5)",
     "output_type": "error",
     "traceback": [
      "\u001b[0;36m  File \u001b[0;32m<tokenize>:5\u001b[0;36m\u001b[0m\n\u001b[0;31m    _, bsize1 = bucketSort1(A)\u001b[0m\n\u001b[0m    ^\u001b[0m\n\u001b[0;31mIndentationError\u001b[0m\u001b[0;31m:\u001b[0m unindent does not match any outer indentation level\n"
     ]
    }
   ],
   "source": [
    "bucket_sizes1 = []\n",
    "for _ in range(100):\n",
    "\tA = [round(random.uniform(0,2), 2) for _ in range(100)]\n",
    "\t_, bsize = bucketSort(A)\n",
    "    _, bsize1 = bucketSort1(A)\n",
    "\tbucket_sizes1 += bsize\n",
    "#Plots the bucket size distribution.\n",
    "import matplotlib.pyplot as plt\n",
    "\n",
    "plt.hist(bucket_sizes1)"
   ]
  },
  {
   "cell_type": "code",
   "execution_count": null,
   "id": "5a77359f",
   "metadata": {},
   "outputs": [],
   "source": [
    "bucket_sizes1 = []\n",
    "bucket_sizes = []\n",
    "for _ in range(1):\n",
    "    A = [round(random.uniform(0,2), 2) for _ in range(100)]\n",
    "    _, bsize = bucket_sort(A)\n",
    "    _, bsize1 = bucketSort1(A)\n",
    "    bucket_sizes1 += bsize1\n",
    "    bucket_sizes += bsize\n",
    "#Plots the bucket size distribution.\n",
    "import matplotlib.pyplot as plt\n",
    "plt.hist(bucket_sizes, bins=10)\n",
    "plt.hist(bucket_sizes1)\n"
   ]
  },
  {
   "cell_type": "code",
   "execution_count": null,
   "id": "1fa2728d",
   "metadata": {},
   "outputs": [],
   "source": []
  }
 ],
 "metadata": {
  "kernelspec": {
   "display_name": "Python 3 (ipykernel)",
   "language": "python",
   "name": "python3"
  },
  "language_info": {
   "codemirror_mode": {
    "name": "ipython",
    "version": 3
   },
   "file_extension": ".py",
   "mimetype": "text/x-python",
   "name": "python",
   "nbconvert_exporter": "python",
   "pygments_lexer": "ipython3",
   "version": "3.10.6"
  }
 },
 "nbformat": 4,
 "nbformat_minor": 5
}
