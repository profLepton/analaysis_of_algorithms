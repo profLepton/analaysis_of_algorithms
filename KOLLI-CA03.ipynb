{
 "cells": [
  {
   "cell_type": "code",
   "execution_count": 6,
   "id": "277d9653",
   "metadata": {},
   "outputs": [],
   "source": [
    "#imports\n",
    "import random\n",
    "import os\n",
    "from IPython.display import clear_output"
   ]
  },
  {
   "cell_type": "code",
   "execution_count": 7,
   "id": "84c91398",
   "metadata": {},
   "outputs": [],
   "source": [
    "#Distributes cards to each player\n",
    "def set_up_game(num_players, num_cards, Cards):\n",
    "    #Create an array for 4 players\n",
    "    players = []\n",
    "    for i in range(num_players):\n",
    "        players.append([])\n",
    "    \n",
    "    game_cards = Cards\n",
    "    #Shuffle the cards\n",
    "    random.shuffle(game_cards)\n",
    "    \n",
    "    #Assign cards to each player\n",
    "    c = 0 \n",
    "    while c < num_cards-1:\n",
    "        for i in range(num_players):\n",
    "            players[i].append(game_cards[c])\n",
    "            c+=1\n",
    "    \n",
    "    \n",
    "    return players"
   ]
  },
  {
   "cell_type": "code",
   "execution_count": 3,
   "id": "c16ca1e7",
   "metadata": {},
   "outputs": [],
   "source": [
    "#Checks if any of the players have 4 ACES\n",
    "def check_4_Aces(players_array):\n",
    "    #The numbers for ACES\n",
    "    aces = [0, 13, 26, 39]\n",
    "    #Loops through all players and checks for ACES\n",
    "    for i in range(len(players_array)):\n",
    "        if all(value in players_array[i] for value in aces):\n",
    "            return 1\n",
    "    return 0"
   ]
  },
  {
   "cell_type": "code",
   "execution_count": 8,
   "id": "b50aed0a",
   "metadata": {},
   "outputs": [],
   "source": [
    "def play_games(number_of_experiments, num_players=4, num_cards_per_player=11, num_successes=100):\n",
    "    #Intializes the variables\n",
    "    cards = [i for i in range(0, 52)]\n",
    "    num_cards = num_cards_per_player * num_players\n",
    "    n = 0\n",
    "    nGames_array = []\n",
    "    \n",
    "    #Run experiments\n",
    "    while n < number_of_experiments:\n",
    "        s = 0\n",
    "        n_games = 0\n",
    "        clear_output(wait=True)\n",
    "        print(\"Progress: \"+ \"{:.2f}%\".format(n/number_of_experiments * 100))\n",
    "        \n",
    "        #Runs games until a 100 successes\n",
    "        while s < num_successes:\n",
    "            players = set_up_game(num_players, num_cards, cards)\n",
    "            s += check_4_Aces(players)\n",
    "            n_games +=1\n",
    "        #Add number of games for a 100 successes to an array\n",
    "        nGames_array.append(n_games)\n",
    "\n",
    "        n+=1\n",
    "        \n",
    "    #Print Output    \n",
    "    clear_output(wait=True)\n",
    "    print(\"Progress: 100%!\")\n",
    "    print(\"Simulation done!\")\n",
    "    print(\"Total games played: \" + str(len(nGames_array)))\n",
    "    print(\"Average no. of games for success: \" + str(sum(nGames_array)/(num_successes * number_of_experiments)))\n",
    "    return nGames_array"
   ]
  },
  {
   "cell_type": "code",
   "execution_count": 9,
   "id": "472d0464",
   "metadata": {},
   "outputs": [
    {
     "name": "stdout",
     "output_type": "stream",
     "text": [
      "Progress: 100%!\n",
      "Simulation done!\n",
      "Total games played: 100\n",
      "Average no. of games for success: 207.9422\n"
     ]
    }
   ],
   "source": [
    "games = play_games(100)"
   ]
  },
  {
   "cell_type": "code",
   "execution_count": null,
   "id": "0820bed0",
   "metadata": {},
   "outputs": [],
   "source": []
  }
 ],
 "metadata": {
  "kernelspec": {
   "display_name": "Python 3 (ipykernel)",
   "language": "python",
   "name": "python3"
  },
  "language_info": {
   "codemirror_mode": {
    "name": "ipython",
    "version": 3
   },
   "file_extension": ".py",
   "mimetype": "text/x-python",
   "name": "python",
   "nbconvert_exporter": "python",
   "pygments_lexer": "ipython3",
   "version": "3.10.6"
  }
 },
 "nbformat": 4,
 "nbformat_minor": 5
}
