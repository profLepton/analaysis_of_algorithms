{
 "cells": [
  {
   "cell_type": "code",
   "execution_count": 5,
   "id": "82f34821",
   "metadata": {},
   "outputs": [],
   "source": [
    "#Imports\n",
    "import random\n",
    "import numpy as np"
   ]
  },
  {
   "cell_type": "code",
   "execution_count": 6,
   "id": "1252044f",
   "metadata": {},
   "outputs": [],
   "source": [
    "#Randomly generates 'n' 'classes' in a list. Each 'class' is a tuple of start and end time.\n",
    "def generate_classes(n):\n",
    "    classes = []\n",
    "    day_start = 0\n",
    "    day_end = 27\n",
    "    \n",
    "    for i in range(n):\n",
    "        start_interval = random.randint(day_start, day_end-2)\n",
    "        end_interval = random.randint(start_interval + 2, (start_interval + 6) if (start_interval+6) < (day_end) else (day_end))\n",
    "        classes.append((start_interval, end_interval))\n",
    "    \n",
    "    return classes"
   ]
  },
  {
   "cell_type": "code",
   "execution_count": 7,
   "id": "85c43d8a",
   "metadata": {},
   "outputs": [],
   "source": [
    "#Generates a graph using the list of classes. Each edge represents overlapping classes.\n",
    "def generate_graph(classes):\n",
    "    dim = len(classes)\n",
    "    graph = np.zeros((dim, dim))\n",
    "    \n",
    "    \n",
    "    for i in range(len(classes)):\n",
    "        for j in range(len(classes)):\n",
    "            if i != j:\n",
    "                for time in classes[i]:\n",
    "                    start = classes[j][0]\n",
    "                    end = classes[j][1]\n",
    "                    if start < time < end:\n",
    "                        graph[i][j] = 1\n",
    "    \n",
    "    return graph"
   ]
  },
  {
   "cell_type": "code",
   "execution_count": 22,
   "id": "abff869d",
   "metadata": {},
   "outputs": [],
   "source": [
    "#Colors the graph greedily.\n",
    "def min_colors(classes, graph, halls):\n",
    "    color_dict = {}\n",
    "    colors = [x for x in range(halls)]\n",
    "    \n",
    "    \n",
    "    \n",
    "    #Collects the colors of all neighbors for a node\n",
    "    for i in range(len(classes)):\n",
    "        neighbor_colors = []\n",
    "        for j in range(len(graph[i])):\n",
    "            if graph[i][j] == 1:\n",
    "                if j in color_dict:\n",
    "                    neighbor_colors.append(color_dict[j])\n",
    "                    \n",
    "        #Adds the earliest color that is not used by neighbors         \n",
    "        if i not in color_dict:\n",
    "            for color in colors:\n",
    "                if color not in neighbor_colors:\n",
    "                    color_dict[i] = color\n",
    "                    break\n",
    "\n",
    "    m = 0\n",
    "    for _ in range(len(classes)):\n",
    "        m = max(m, color_dict[i])\n",
    "    return color_dict, m"
   ]
  },
  {
   "cell_type": "code",
   "execution_count": 33,
   "id": "494be783",
   "metadata": {},
   "outputs": [],
   "source": [
    "#Driver code\n",
    "classes = generate_classes(100)\n",
    "graph = generate_graph(classes)\n",
    "color_dict, m = min_colors(classes, graph, halls=10)"
   ]
  },
  {
   "cell_type": "code",
   "execution_count": 34,
   "id": "89713314",
   "metadata": {},
   "outputs": [
    {
     "data": {
      "text/plain": [
       "'The minimum number of colors required to color the graph is 6'"
      ]
     },
     "execution_count": 34,
     "metadata": {},
     "output_type": "execute_result"
    }
   ],
   "source": [
    "\"The minimum number of colors required to color the graph is \" + str(m+1)"
   ]
  },
  {
   "cell_type": "code",
   "execution_count": 35,
   "id": "7363b9af",
   "metadata": {},
   "outputs": [],
   "source": [
    "#Gives the lecture hall for a class.\n",
    "def give_lecture_hall(i):\n",
    "    return color_dict[i]"
   ]
  },
  {
   "cell_type": "code",
   "execution_count": 36,
   "id": "9e24d1a1",
   "metadata": {},
   "outputs": [
    {
     "name": "stdout",
     "output_type": "stream",
     "text": [
      "The lecture hall for class two is 0\n"
     ]
    }
   ],
   "source": [
    "print(f\"The lecture hall for class two is {give_lecture_hall(1)}\")"
   ]
  },
  {
   "cell_type": "markdown",
   "id": "c55b78d8",
   "metadata": {},
   "source": [
    "The halls are labelled 0-9"
   ]
  },
  {
   "cell_type": "code",
   "execution_count": null,
   "id": "d13be4a4",
   "metadata": {},
   "outputs": [],
   "source": []
  }
 ],
 "metadata": {
  "kernelspec": {
   "display_name": "Python 3 (ipykernel)",
   "language": "python",
   "name": "python3"
  },
  "language_info": {
   "codemirror_mode": {
    "name": "ipython",
    "version": 3
   },
   "file_extension": ".py",
   "mimetype": "text/x-python",
   "name": "python",
   "nbconvert_exporter": "python",
   "pygments_lexer": "ipython3",
   "version": "3.10.6"
  }
 },
 "nbformat": 4,
 "nbformat_minor": 5
}
