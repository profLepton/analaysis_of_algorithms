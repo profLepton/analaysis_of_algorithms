{
 "cells": [
  {
   "cell_type": "markdown",
   "id": "2fd08b89",
   "metadata": {},
   "source": [
    "# CA04\n",
    "### Q1) How would you represent a d-ary heap in an array?\n",
    "In implementing a d-ary heap in an array, we would place the root element at index i, and its children at $n*i+1, n*i+2 .... n*i + n$. We place all the elements starting from the root element at index 0 and all subsequent elements according to the formula mentioned above.\n",
    "\n",
    "### Q2 - Q4 ) Give an efficient implementation for heapify(), buildHeap() and heapSort().\n",
    "\n",
    "The implementations for heapify(), buildHeap() and heapSort() are given below."
   ]
  },
  {
   "cell_type": "code",
   "execution_count": 2,
   "id": "a25b2279",
   "metadata": {},
   "outputs": [],
   "source": [
    "#Build a max heap.\n",
    "def heapify(A, d, num, index):\n",
    "    largest = index\n",
    "    child_index = d * index +1\n",
    "    \n",
    "    for child in range(child_index, child_index+d):\n",
    "        if child < num and A[child] > A[largest]:\n",
    "            largest = child\n",
    "    \n",
    "    #Change the root if needed.\n",
    "    if largest != index:\n",
    "        A[index], A[largest] = A[largest], A[index]\n",
    "        heapify(A, d, num, largest)\n",
    "\n",
    "#Build a heap.\n",
    "def buildHeap(A, d, num):\n",
    "    # Build a maxheap from bottom up\n",
    "    # Since the last parent will be at (n +1 // d )-1 we can start at that location.\n",
    "    for i in range((num + 1) // d - 1, -1, -1):\n",
    "        heapify(A, d, num, i)\n",
    "\n",
    "#The main function to sort an array of given size.\n",
    "def heapSort(A, d=2):\n",
    "    length = len(A)\n",
    "    buildHeap(A, d, length)\n",
    "\n",
    "    for i in range(length - 1, 0, -1):\n",
    "        A[i], A[0] = A[0], A[i]\n",
    "        heapify(A, d, i, 0)"
   ]
  },
  {
   "cell_type": "code",
   "execution_count": 4,
   "id": "099f3e1c",
   "metadata": {},
   "outputs": [
    {
     "name": "stdout",
     "output_type": "stream",
     "text": [
      "The sorted array is :\n"
     ]
    },
    {
     "data": {
      "text/plain": [
       "[2, 5, 6, 7, 9, 10, 11, 12, 13]"
      ]
     },
     "execution_count": 4,
     "metadata": {},
     "output_type": "execute_result"
    }
   ],
   "source": [
    "#Driver code\n",
    "d = 4\n",
    "A = [10, 9, 12, 11, 13, 5, 6, 7, 2]\n",
    "heapSort(A, d)\n",
    "print(\"The sorted array is :\")\n",
    "A"
   ]
  },
  {
   "cell_type": "code",
   "execution_count": 5,
   "id": "e12cc463",
   "metadata": {},
   "outputs": [],
   "source": [
    "#Extra credit"
   ]
  },
  {
   "cell_type": "markdown",
   "id": "76ade98f",
   "metadata": {},
   "source": [
    "# Extra Credit\n",
    "\n",
    "This algorithm chooses the smallest element out of the first elements of each of the lists in the list of lists and adds it the output list. This process is repeated until all of the elements in the list of lists are exhausted.\n",
    " "
   ]
  },
  {
   "cell_type": "code",
   "execution_count": 14,
   "id": "bbaf6a3c",
   "metadata": {},
   "outputs": [],
   "source": [
    "def merge_k(k, n):\n",
    "    s = []\n",
    "  \n",
    "    \n",
    "    for _ in range(n):\n",
    "        #time complexity of this loop is O(1) , linear\n",
    "        for i, array in enumerate(k):\n",
    "            if array != []:\n",
    "                smallest_value = array[0]\n",
    "                smallest_array = i\n",
    "        #time complexity of this loop is O(n/k)\n",
    "        for i, array in enumerate(k):\n",
    "            if array != []:\n",
    "   \n",
    "                if array[0] < smallest_value:\n",
    "                    smallest_value = array[0]\n",
    "                    smallest_array = i\n",
    "                    \n",
    "        k[smallest_array].remove(smallest_value)\n",
    "        s.append(smallest_value)\n",
    "   \n",
    "    \n",
    "    return s"
   ]
  },
  {
   "cell_type": "code",
   "execution_count": 15,
   "id": "c979ae54",
   "metadata": {},
   "outputs": [
    {
     "data": {
      "text/plain": [
       "[1, 2, 3, 4, 5, 6, 7, 7, 9]"
      ]
     },
     "execution_count": 15,
     "metadata": {},
     "output_type": "execute_result"
    }
   ],
   "source": [
    "a = [[1,2,4,6,7], [3,5,7, 9]]\n",
    "merge_k(a, 9)"
   ]
  },
  {
   "cell_type": "markdown",
   "id": "d4073c7e",
   "metadata": {},
   "source": [
    "This method is the fastest I've found. "
   ]
  }
 ],
 "metadata": {
  "kernelspec": {
   "display_name": "Python 3 (ipykernel)",
   "language": "python",
   "name": "python3"
  },
  "language_info": {
   "codemirror_mode": {
    "name": "ipython",
    "version": 3
   },
   "file_extension": ".py",
   "mimetype": "text/x-python",
   "name": "python",
   "nbconvert_exporter": "python",
   "pygments_lexer": "ipython3",
   "version": "3.10.6"
  },
  "vscode": {
   "interpreter": {
    "hash": "31f2aee4e71d21fbe5cf8b01ff0e069b9275f58929596ceb00d14d90e3e16cd6"
   }
  }
 },
 "nbformat": 4,
 "nbformat_minor": 5
}
