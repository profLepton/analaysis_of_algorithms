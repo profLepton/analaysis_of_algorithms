{
 "cells": [
  {
   "cell_type": "code",
   "execution_count": 40,
   "id": "16e12a58",
   "metadata": {},
   "outputs": [],
   "source": [
    "#Implementing Nodes as a class\n",
    "class Node:\n",
    "    def __init__(self, value):#Constructor\n",
    "        self.value = value\n",
    "        self.next_node = None"
   ]
  },
  {
   "cell_type": "code",
   "execution_count": 51,
   "id": "c268df8a",
   "metadata": {},
   "outputs": [],
   "source": [
    "#Implementing Queue as a class\n",
    "class Queue:\n",
    "    #Initializing a Queue with no nodes.\n",
    "    def __init__(self):\n",
    "        self.head = None\n",
    "        self.tail = None\n",
    "        self.size = 0\n",
    "    \n",
    "    def __str__(self):\n",
    "        current_node = self.head\n",
    "        queue = \"\"\n",
    "        while current_node:\n",
    "            queue += str(current_node.value) + \" <- \"\n",
    "            current_node = current_node.next_node\n",
    "        return queue[:-4]\n",
    "    \n",
    "    #Returns the size of the Queue\n",
    "    def get_size(self):\n",
    "        return self.size\n",
    "    \n",
    "    #Checks if Queue is empty\n",
    "    def is_empty(self):\n",
    "        return self.size == 0\n",
    " \n",
    "    #Adds a node to the tail of the queue and assigns it as the new tail.\n",
    "    def enqueue(self, node):\n",
    "        print(\"Adding node \" , node.value , \" to queue.\")\n",
    "        if self.size == 0:\n",
    "            self.head = node\n",
    "            self.tail = node\n",
    "        else:\n",
    "            self.tail.next_node = node\n",
    "            self.tail = node\n",
    "        \n",
    "        self.size +=1\n",
    "        \n",
    "    #Removes the head from the Queue and assigns the new head.         \n",
    "    def dequeue(self):\n",
    "        print(\"Removing node \" , self.head.value, \" from queue.\")\n",
    "        if self.size == 0:\n",
    "            raise Exception(\"\\nThere are no nodes to dequeue\")\n",
    "        elif self.size == 1:\n",
    "            self.head == None\n",
    "            self.tail == None\n",
    "            self.size = 0\n",
    "        else:\n",
    "            self.head = self.head.next_node\n",
    "            self.size -=1\n",
    "        \n",
    "    #Returns the head of the queue.\n",
    "    def peek(self):\n",
    "        if self.size == 0:\n",
    "            raise Exception(\"Peeking at an empty Queue!\")\n",
    "        else:\n",
    "            return self.head.value\n",
    "        \n",
    "    "
   ]
  },
  {
   "cell_type": "code",
   "execution_count": 48,
   "id": "30f082b8",
   "metadata": {},
   "outputs": [
    {
     "name": "stdout",
     "output_type": "stream",
     "text": [
      "Removing node  Hello  from queue.\n",
      "Removing node  How  from queue.\n",
      "Removing node  Are  from queue.\n",
      "Removing node  You  from queue.\n"
     ]
    }
   ],
   "source": [
    "myQueue.dequeue()\n",
    "myQueue.dequeue()\n",
    "myQueue.dequeue()\n",
    "myQueue.dequeue()\n"
   ]
  }
 ],
 "metadata": {
  "kernelspec": {
   "display_name": "Python 3 (ipykernel)",
   "language": "python",
   "name": "python3"
  },
  "language_info": {
   "codemirror_mode": {
    "name": "ipython",
    "version": 3
   },
   "file_extension": ".py",
   "mimetype": "text/x-python",
   "name": "python",
   "nbconvert_exporter": "python",
   "pygments_lexer": "ipython3",
   "version": "3.10.6"
  }
 },
 "nbformat": 4,
 "nbformat_minor": 5
}
